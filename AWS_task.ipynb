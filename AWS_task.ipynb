{
 "cells": [
  {
   "cell_type": "code",
   "execution_count": null,
   "metadata": {},
   "outputs": [],
   "source": [
    "#pip install boto3"
   ]
  },
  {
   "cell_type": "code",
   "execution_count": 1,
   "metadata": {},
   "outputs": [],
   "source": [
    "import boto3\n",
    "import pandas as pd\n",
    "import numpy as np"
   ]
  },
  {
   "cell_type": "code",
   "execution_count": 2,
   "metadata": {},
   "outputs": [],
   "source": [
    "client = boto3.client('s3')"
   ]
  },
  {
   "cell_type": "code",
   "execution_count": 3,
   "metadata": {},
   "outputs": [],
   "source": [
    "path = 's3://mcsp-hiring-external/test_input_file.csv'"
   ]
  },
  {
   "cell_type": "code",
   "execution_count": null,
   "metadata": {},
   "outputs": [],
   "source": [
    "#pip install s3fs"
   ]
  },
  {
   "cell_type": "code",
   "execution_count": 4,
   "metadata": {},
   "outputs": [
    {
     "data": {
      "text/html": [
       "<div>\n",
       "<style scoped>\n",
       "    .dataframe tbody tr th:only-of-type {\n",
       "        vertical-align: middle;\n",
       "    }\n",
       "\n",
       "    .dataframe tbody tr th {\n",
       "        vertical-align: top;\n",
       "    }\n",
       "\n",
       "    .dataframe thead th {\n",
       "        text-align: right;\n",
       "    }\n",
       "</style>\n",
       "<table border=\"1\" class=\"dataframe\">\n",
       "  <thead>\n",
       "    <tr style=\"text-align: right;\">\n",
       "      <th></th>\n",
       "      <th>id</th>\n",
       "      <th>name</th>\n",
       "      <th>date_of_birth</th>\n",
       "      <th>Gender</th>\n",
       "      <th>device_type_us_state</th>\n",
       "    </tr>\n",
       "  </thead>\n",
       "  <tbody>\n",
       "    <tr>\n",
       "      <th>0</th>\n",
       "      <td>0039c5a9-505a-4ece-80ac-6ee9225f0d2a</td>\n",
       "      <td>Liam</td>\n",
       "      <td>16/07/1978</td>\n",
       "      <td>NaN</td>\n",
       "      <td>android_CT-Connecticut</td>\n",
       "    </tr>\n",
       "    <tr>\n",
       "      <th>1</th>\n",
       "      <td>004d3491-8ff2-469e-8946-6fcf2e311329</td>\n",
       "      <td>Noah</td>\n",
       "      <td>04/03/2004</td>\n",
       "      <td>Female</td>\n",
       "      <td>iphone_DE-Delaware</td>\n",
       "    </tr>\n",
       "    <tr>\n",
       "      <th>2</th>\n",
       "      <td>00a9842b-7d31-45a1-b295-99d278588e40</td>\n",
       "      <td>William</td>\n",
       "      <td>10/09/1979</td>\n",
       "      <td>NaN</td>\n",
       "      <td>iphone_RI-Rhode Island</td>\n",
       "    </tr>\n",
       "    <tr>\n",
       "      <th>3</th>\n",
       "      <td>010acae5-8749-4cac-b5a9-ae83825b57b1</td>\n",
       "      <td>James</td>\n",
       "      <td>06/03/2012</td>\n",
       "      <td>F</td>\n",
       "      <td>iphone_PA-Pennsylvania</td>\n",
       "    </tr>\n",
       "    <tr>\n",
       "      <th>4</th>\n",
       "      <td>013a1028-4fd5-413a-b703-56fc15b773be</td>\n",
       "      <td>Oliver</td>\n",
       "      <td>23/06/1985</td>\n",
       "      <td></td>\n",
       "      <td>android_CT-Connecticut</td>\n",
       "    </tr>\n",
       "  </tbody>\n",
       "</table>\n",
       "</div>"
      ],
      "text/plain": [
       "                                     id      name date_of_birth  \\\n",
       "0  0039c5a9-505a-4ece-80ac-6ee9225f0d2a     Liam     16/07/1978   \n",
       "1  004d3491-8ff2-469e-8946-6fcf2e311329     Noah     04/03/2004   \n",
       "2  00a9842b-7d31-45a1-b295-99d278588e40  William     10/09/1979   \n",
       "3  010acae5-8749-4cac-b5a9-ae83825b57b1    James     06/03/2012   \n",
       "4  013a1028-4fd5-413a-b703-56fc15b773be   Oliver     23/06/1985   \n",
       "\n",
       "           Gender    device_type_us_state  \n",
       "0             NaN  android_CT-Connecticut  \n",
       "1          Female      iphone_DE-Delaware  \n",
       "2             NaN  iphone_RI-Rhode Island  \n",
       "3               F  iphone_PA-Pennsylvania  \n",
       "4                  android_CT-Connecticut  "
      ]
     },
     "execution_count": 4,
     "metadata": {},
     "output_type": "execute_result"
    }
   ],
   "source": [
    "df = pd.read_csv(path)\n",
    "df.head()"
   ]
  },
  {
   "cell_type": "code",
   "execution_count": 5,
   "metadata": {},
   "outputs": [
    {
     "name": "stdout",
     "output_type": "stream",
     "text": [
      "<class 'pandas.core.frame.DataFrame'>\n",
      "RangeIndex: 500 entries, 0 to 499\n",
      "Data columns (total 5 columns):\n",
      " #   Column                Non-Null Count  Dtype \n",
      "---  ------                --------------  ----- \n",
      " 0   id                    500 non-null    object\n",
      " 1   name                  499 non-null    object\n",
      " 2   date_of_birth         500 non-null    object\n",
      " 3   Gender                387 non-null    object\n",
      " 4   device_type_us_state  500 non-null    object\n",
      "dtypes: object(5)\n",
      "memory usage: 19.7+ KB\n"
     ]
    }
   ],
   "source": [
    "df.info()"
   ]
  },
  {
   "cell_type": "code",
   "execution_count": 6,
   "metadata": {},
   "outputs": [
    {
     "data": {
      "text/plain": [
       "0"
      ]
     },
     "execution_count": 6,
     "metadata": {},
     "output_type": "execute_result"
    }
   ],
   "source": [
    "#Check Duplicate Values\n",
    "df.duplicated().sum()"
   ]
  },
  {
   "cell_type": "code",
   "execution_count": null,
   "metadata": {},
   "outputs": [],
   "source": [
    "#Check Missing Values\n",
    "#print (\"\\nMissing values :  \", df.isnull().sum().values.sum())"
   ]
  },
  {
   "cell_type": "code",
   "execution_count": 7,
   "metadata": {},
   "outputs": [
    {
     "data": {
      "text/plain": [
       "id                        0\n",
       "name                      1\n",
       "date_of_birth             0\n",
       "Gender                  113\n",
       "device_type_us_state      0\n",
       "dtype: int64"
      ]
     },
     "execution_count": 7,
     "metadata": {},
     "output_type": "execute_result"
    }
   ],
   "source": [
    "#dataset with null value\n",
    "df.isnull().sum()"
   ]
  },
  {
   "cell_type": "code",
   "execution_count": 8,
   "metadata": {},
   "outputs": [
    {
     "data": {
      "text/html": [
       "<div>\n",
       "<style scoped>\n",
       "    .dataframe tbody tr th:only-of-type {\n",
       "        vertical-align: middle;\n",
       "    }\n",
       "\n",
       "    .dataframe tbody tr th {\n",
       "        vertical-align: top;\n",
       "    }\n",
       "\n",
       "    .dataframe thead th {\n",
       "        text-align: right;\n",
       "    }\n",
       "</style>\n",
       "<table border=\"1\" class=\"dataframe\">\n",
       "  <thead>\n",
       "    <tr style=\"text-align: right;\">\n",
       "      <th></th>\n",
       "      <th>id</th>\n",
       "      <th>name</th>\n",
       "      <th>date_of_birth</th>\n",
       "      <th>Gender</th>\n",
       "      <th>device_type_us_state</th>\n",
       "    </tr>\n",
       "  </thead>\n",
       "  <tbody>\n",
       "    <tr>\n",
       "      <th>0</th>\n",
       "      <td>0039c5a9-505a-4ece-80ac-6ee9225f0d2a</td>\n",
       "      <td>Liam</td>\n",
       "      <td>16/07/1978</td>\n",
       "      <td>NaN</td>\n",
       "      <td>android_CT-Connecticut</td>\n",
       "    </tr>\n",
       "    <tr>\n",
       "      <th>1</th>\n",
       "      <td>004d3491-8ff2-469e-8946-6fcf2e311329</td>\n",
       "      <td>Noah</td>\n",
       "      <td>04/03/2004</td>\n",
       "      <td>Female</td>\n",
       "      <td>iphone_DE-Delaware</td>\n",
       "    </tr>\n",
       "    <tr>\n",
       "      <th>2</th>\n",
       "      <td>00a9842b-7d31-45a1-b295-99d278588e40</td>\n",
       "      <td>William</td>\n",
       "      <td>10/09/1979</td>\n",
       "      <td>NaN</td>\n",
       "      <td>iphone_RI-Rhode Island</td>\n",
       "    </tr>\n",
       "    <tr>\n",
       "      <th>3</th>\n",
       "      <td>010acae5-8749-4cac-b5a9-ae83825b57b1</td>\n",
       "      <td>James</td>\n",
       "      <td>06/03/2012</td>\n",
       "      <td>F</td>\n",
       "      <td>iphone_PA-Pennsylvania</td>\n",
       "    </tr>\n",
       "    <tr>\n",
       "      <th>4</th>\n",
       "      <td>013a1028-4fd5-413a-b703-56fc15b773be</td>\n",
       "      <td>Oliver</td>\n",
       "      <td>23/06/1985</td>\n",
       "      <td>NaN</td>\n",
       "      <td>android_CT-Connecticut</td>\n",
       "    </tr>\n",
       "  </tbody>\n",
       "</table>\n",
       "</div>"
      ],
      "text/plain": [
       "                                     id     name date_of_birth  Gender  \\\n",
       "0  0039c5a9-505a-4ece-80ac-6ee9225f0d2a     Liam    16/07/1978     NaN   \n",
       "1  004d3491-8ff2-469e-8946-6fcf2e311329     Noah    04/03/2004  Female   \n",
       "2  00a9842b-7d31-45a1-b295-99d278588e40  William    10/09/1979     NaN   \n",
       "3  010acae5-8749-4cac-b5a9-ae83825b57b1    James    06/03/2012       F   \n",
       "4  013a1028-4fd5-413a-b703-56fc15b773be   Oliver    23/06/1985     NaN   \n",
       "\n",
       "     device_type_us_state  \n",
       "0  android_CT-Connecticut  \n",
       "1      iphone_DE-Delaware  \n",
       "2  iphone_RI-Rhode Island  \n",
       "3  iphone_PA-Pennsylvania  \n",
       "4  android_CT-Connecticut  "
      ]
     },
     "execution_count": 8,
     "metadata": {},
     "output_type": "execute_result"
    }
   ],
   "source": [
    "df = df.apply(lambda x: x.str.strip()).replace('', np.nan)\n",
    "df.head()"
   ]
  },
  {
   "cell_type": "code",
   "execution_count": 9,
   "metadata": {},
   "outputs": [],
   "source": [
    "df = df.dropna(axis = 0)"
   ]
  },
  {
   "cell_type": "code",
   "execution_count": 10,
   "metadata": {},
   "outputs": [
    {
     "data": {
      "text/plain": [
       "id                      0\n",
       "name                    0\n",
       "date_of_birth           0\n",
       "Gender                  0\n",
       "device_type_us_state    0\n",
       "dtype: int64"
      ]
     },
     "execution_count": 10,
     "metadata": {},
     "output_type": "execute_result"
    }
   ],
   "source": [
    "# there is no null values\n",
    "df.isnull().sum()"
   ]
  },
  {
   "cell_type": "code",
   "execution_count": 11,
   "metadata": {},
   "outputs": [
    {
     "data": {
      "text/plain": [
       "(337, 5)"
      ]
     },
     "execution_count": 11,
     "metadata": {},
     "output_type": "execute_result"
    }
   ],
   "source": [
    "df.shape"
   ]
  },
  {
   "cell_type": "code",
   "execution_count": 12,
   "metadata": {},
   "outputs": [],
   "source": [
    "from datetime import datetime"
   ]
  },
  {
   "cell_type": "code",
   "execution_count": 13,
   "metadata": {},
   "outputs": [],
   "source": [
    "# Make sure to parse all datetime columns in advance\n",
    "df['date_of_birth'] = pd.to_datetime(df['date_of_birth'], errors='coerce')"
   ]
  },
  {
   "cell_type": "code",
   "execution_count": 14,
   "metadata": {},
   "outputs": [
    {
     "data": {
      "text/plain": [
       "Timestamp('2020-12-13 02:20:56.421277')"
      ]
     },
     "execution_count": 14,
     "metadata": {},
     "output_type": "execute_result"
    }
   ],
   "source": [
    "now = pd.to_datetime('now')\n",
    "now"
   ]
  },
  {
   "cell_type": "code",
   "execution_count": 15,
   "metadata": {},
   "outputs": [
    {
     "data": {
      "text/plain": [
       "1      16.0\n",
       "3       8.0\n",
       "5      28.0\n",
       "8      23.0\n",
       "9      40.0\n",
       "       ... \n",
       "492    41.0\n",
       "493    44.0\n",
       "494    11.0\n",
       "497    17.0\n",
       "499    17.0\n",
       "Name: date_of_birth, Length: 337, dtype: float64"
      ]
     },
     "execution_count": 15,
     "metadata": {},
     "output_type": "execute_result"
    }
   ],
   "source": [
    "(now - df['date_of_birth']).astype('<m8[Y]')"
   ]
  },
  {
   "cell_type": "code",
   "execution_count": 16,
   "metadata": {},
   "outputs": [
    {
     "data": {
      "text/plain": [
       "1      16\n",
       "3       8\n",
       "5      28\n",
       "8      23\n",
       "9      40\n",
       "       ..\n",
       "492    41\n",
       "493    44\n",
       "494    11\n",
       "497    17\n",
       "499    17\n",
       "Name: date_of_birth, Length: 337, dtype: int64"
      ]
     },
     "execution_count": 16,
     "metadata": {},
     "output_type": "execute_result"
    }
   ],
   "source": [
    "age = (now.year - df['date_of_birth'].dt.year) - ((now.month - df['date_of_birth'].dt.month) < 0)\n",
    "age"
   ]
  },
  {
   "cell_type": "code",
   "execution_count": 17,
   "metadata": {},
   "outputs": [
    {
     "data": {
      "text/html": [
       "<div>\n",
       "<style scoped>\n",
       "    .dataframe tbody tr th:only-of-type {\n",
       "        vertical-align: middle;\n",
       "    }\n",
       "\n",
       "    .dataframe tbody tr th {\n",
       "        vertical-align: top;\n",
       "    }\n",
       "\n",
       "    .dataframe thead th {\n",
       "        text-align: right;\n",
       "    }\n",
       "</style>\n",
       "<table border=\"1\" class=\"dataframe\">\n",
       "  <thead>\n",
       "    <tr style=\"text-align: right;\">\n",
       "      <th></th>\n",
       "      <th>id</th>\n",
       "      <th>name</th>\n",
       "      <th>date_of_birth</th>\n",
       "      <th>Gender</th>\n",
       "      <th>device_type_us_state</th>\n",
       "      <th>Age</th>\n",
       "    </tr>\n",
       "  </thead>\n",
       "  <tbody>\n",
       "    <tr>\n",
       "      <th>1</th>\n",
       "      <td>004d3491-8ff2-469e-8946-6fcf2e311329</td>\n",
       "      <td>Noah</td>\n",
       "      <td>2004-04-03</td>\n",
       "      <td>Female</td>\n",
       "      <td>iphone_DE-Delaware</td>\n",
       "      <td>16</td>\n",
       "    </tr>\n",
       "    <tr>\n",
       "      <th>3</th>\n",
       "      <td>010acae5-8749-4cac-b5a9-ae83825b57b1</td>\n",
       "      <td>James</td>\n",
       "      <td>2012-06-03</td>\n",
       "      <td>F</td>\n",
       "      <td>iphone_PA-Pennsylvania</td>\n",
       "      <td>8</td>\n",
       "    </tr>\n",
       "    <tr>\n",
       "      <th>5</th>\n",
       "      <td>013f182f-42ac-4063-a774-1b0218c52fd8</td>\n",
       "      <td>Benjamin</td>\n",
       "      <td>1992-04-03</td>\n",
       "      <td>FEMALE</td>\n",
       "      <td>iphone_DE-Delaware</td>\n",
       "      <td>28</td>\n",
       "    </tr>\n",
       "    <tr>\n",
       "      <th>8</th>\n",
       "      <td>021c45e1-f551-4da8-885d-ad83fe102a15</td>\n",
       "      <td>Mason</td>\n",
       "      <td>1997-06-19</td>\n",
       "      <td>M</td>\n",
       "      <td>android_PA-Pennsylvania</td>\n",
       "      <td>23</td>\n",
       "    </tr>\n",
       "    <tr>\n",
       "      <th>9</th>\n",
       "      <td>025219f6-f3aa-4d1d-8dc3-b485ca5a4641</td>\n",
       "      <td>Logan</td>\n",
       "      <td>1980-04-12</td>\n",
       "      <td>Female</td>\n",
       "      <td>android_NJ-New Jersey</td>\n",
       "      <td>40</td>\n",
       "    </tr>\n",
       "    <tr>\n",
       "      <th>...</th>\n",
       "      <td>...</td>\n",
       "      <td>...</td>\n",
       "      <td>...</td>\n",
       "      <td>...</td>\n",
       "      <td>...</td>\n",
       "      <td>...</td>\n",
       "    </tr>\n",
       "    <tr>\n",
       "      <th>492</th>\n",
       "      <td>58b2ba9d-2319-4b50-97b0-80e73c481ee4</td>\n",
       "      <td>Uriel</td>\n",
       "      <td>1979-11-05</td>\n",
       "      <td>Male</td>\n",
       "      <td>iphone_PA-Pennsylvania</td>\n",
       "      <td>41</td>\n",
       "    </tr>\n",
       "    <tr>\n",
       "      <th>493</th>\n",
       "      <td>592ae939-bd3f-4e90-9347-0fe7817f3274</td>\n",
       "      <td>Ronald</td>\n",
       "      <td>1976-03-25</td>\n",
       "      <td>M</td>\n",
       "      <td>iphone_NH-New Hampshire</td>\n",
       "      <td>44</td>\n",
       "    </tr>\n",
       "    <tr>\n",
       "      <th>494</th>\n",
       "      <td>593769d9-d33f-44e9-a381-873963486972</td>\n",
       "      <td>Luciano</td>\n",
       "      <td>2009-11-04</td>\n",
       "      <td>FEMALE</td>\n",
       "      <td>iphone_DE-Delaware</td>\n",
       "      <td>11</td>\n",
       "    </tr>\n",
       "    <tr>\n",
       "      <th>497</th>\n",
       "      <td>59689cfb-27d9-4e95-81fd-c79511947df5</td>\n",
       "      <td>Kieran</td>\n",
       "      <td>2003-10-05</td>\n",
       "      <td>Female</td>\n",
       "      <td>android_CT-Connecticut</td>\n",
       "      <td>17</td>\n",
       "    </tr>\n",
       "    <tr>\n",
       "      <th>499</th>\n",
       "      <td>59a19d68-282a-4f27-ae03-016888016bbe</td>\n",
       "      <td>Moses</td>\n",
       "      <td>2003-10-05</td>\n",
       "      <td>FEMALE</td>\n",
       "      <td>iphone_DE-Delaware</td>\n",
       "      <td>17</td>\n",
       "    </tr>\n",
       "  </tbody>\n",
       "</table>\n",
       "<p>337 rows × 6 columns</p>\n",
       "</div>"
      ],
      "text/plain": [
       "                                       id      name date_of_birth  Gender  \\\n",
       "1    004d3491-8ff2-469e-8946-6fcf2e311329      Noah    2004-04-03  Female   \n",
       "3    010acae5-8749-4cac-b5a9-ae83825b57b1     James    2012-06-03       F   \n",
       "5    013f182f-42ac-4063-a774-1b0218c52fd8  Benjamin    1992-04-03  FEMALE   \n",
       "8    021c45e1-f551-4da8-885d-ad83fe102a15     Mason    1997-06-19       M   \n",
       "9    025219f6-f3aa-4d1d-8dc3-b485ca5a4641     Logan    1980-04-12  Female   \n",
       "..                                    ...       ...           ...     ...   \n",
       "492  58b2ba9d-2319-4b50-97b0-80e73c481ee4     Uriel    1979-11-05    Male   \n",
       "493  592ae939-bd3f-4e90-9347-0fe7817f3274    Ronald    1976-03-25       M   \n",
       "494  593769d9-d33f-44e9-a381-873963486972   Luciano    2009-11-04  FEMALE   \n",
       "497  59689cfb-27d9-4e95-81fd-c79511947df5    Kieran    2003-10-05  Female   \n",
       "499  59a19d68-282a-4f27-ae03-016888016bbe     Moses    2003-10-05  FEMALE   \n",
       "\n",
       "        device_type_us_state  Age  \n",
       "1         iphone_DE-Delaware   16  \n",
       "3     iphone_PA-Pennsylvania    8  \n",
       "5         iphone_DE-Delaware   28  \n",
       "8    android_PA-Pennsylvania   23  \n",
       "9      android_NJ-New Jersey   40  \n",
       "..                       ...  ...  \n",
       "492   iphone_PA-Pennsylvania   41  \n",
       "493  iphone_NH-New Hampshire   44  \n",
       "494       iphone_DE-Delaware   11  \n",
       "497   android_CT-Connecticut   17  \n",
       "499       iphone_DE-Delaware   17  \n",
       "\n",
       "[337 rows x 6 columns]"
      ]
     },
     "execution_count": 17,
     "metadata": {},
     "output_type": "execute_result"
    }
   ],
   "source": [
    "# add age column from new data frame \n",
    "df['Age'] = age \n",
    "df"
   ]
  },
  {
   "cell_type": "code",
   "execution_count": 18,
   "metadata": {},
   "outputs": [
    {
     "data": {
      "text/html": [
       "<div>\n",
       "<style scoped>\n",
       "    .dataframe tbody tr th:only-of-type {\n",
       "        vertical-align: middle;\n",
       "    }\n",
       "\n",
       "    .dataframe tbody tr th {\n",
       "        vertical-align: top;\n",
       "    }\n",
       "\n",
       "    .dataframe thead th {\n",
       "        text-align: right;\n",
       "    }\n",
       "</style>\n",
       "<table border=\"1\" class=\"dataframe\">\n",
       "  <thead>\n",
       "    <tr style=\"text-align: right;\">\n",
       "      <th></th>\n",
       "      <th>0</th>\n",
       "      <th>1</th>\n",
       "    </tr>\n",
       "  </thead>\n",
       "  <tbody>\n",
       "    <tr>\n",
       "      <th>1</th>\n",
       "      <td>iphone</td>\n",
       "      <td>DE-Delaware</td>\n",
       "    </tr>\n",
       "    <tr>\n",
       "      <th>3</th>\n",
       "      <td>iphone</td>\n",
       "      <td>PA-Pennsylvania</td>\n",
       "    </tr>\n",
       "    <tr>\n",
       "      <th>5</th>\n",
       "      <td>iphone</td>\n",
       "      <td>DE-Delaware</td>\n",
       "    </tr>\n",
       "    <tr>\n",
       "      <th>8</th>\n",
       "      <td>android</td>\n",
       "      <td>PA-Pennsylvania</td>\n",
       "    </tr>\n",
       "    <tr>\n",
       "      <th>9</th>\n",
       "      <td>android</td>\n",
       "      <td>NJ-New Jersey</td>\n",
       "    </tr>\n",
       "  </tbody>\n",
       "</table>\n",
       "</div>"
      ],
      "text/plain": [
       "         0                1\n",
       "1   iphone      DE-Delaware\n",
       "3   iphone  PA-Pennsylvania\n",
       "5   iphone      DE-Delaware\n",
       "8  android  PA-Pennsylvania\n",
       "9  android    NJ-New Jersey"
      ]
     },
     "execution_count": 18,
     "metadata": {},
     "output_type": "execute_result"
    }
   ],
   "source": [
    "# new data frame with split value columns \n",
    "new_df = df[\"device_type_us_state\"].str.split(\"_\", n = 1, expand = True) \n",
    "new_df.head()"
   ]
  },
  {
   "cell_type": "code",
   "execution_count": 19,
   "metadata": {},
   "outputs": [
    {
     "data": {
      "text/html": [
       "<div>\n",
       "<style scoped>\n",
       "    .dataframe tbody tr th:only-of-type {\n",
       "        vertical-align: middle;\n",
       "    }\n",
       "\n",
       "    .dataframe tbody tr th {\n",
       "        vertical-align: top;\n",
       "    }\n",
       "\n",
       "    .dataframe thead th {\n",
       "        text-align: right;\n",
       "    }\n",
       "</style>\n",
       "<table border=\"1\" class=\"dataframe\">\n",
       "  <thead>\n",
       "    <tr style=\"text-align: right;\">\n",
       "      <th></th>\n",
       "      <th>id</th>\n",
       "      <th>name</th>\n",
       "      <th>date_of_birth</th>\n",
       "      <th>Gender</th>\n",
       "      <th>Age</th>\n",
       "      <th>device_type</th>\n",
       "      <th>state_name</th>\n",
       "    </tr>\n",
       "  </thead>\n",
       "  <tbody>\n",
       "    <tr>\n",
       "      <th>1</th>\n",
       "      <td>004d3491-8ff2-469e-8946-6fcf2e311329</td>\n",
       "      <td>Noah</td>\n",
       "      <td>2004-04-03</td>\n",
       "      <td>Female</td>\n",
       "      <td>16</td>\n",
       "      <td>iphone</td>\n",
       "      <td>DE-Delaware</td>\n",
       "    </tr>\n",
       "    <tr>\n",
       "      <th>3</th>\n",
       "      <td>010acae5-8749-4cac-b5a9-ae83825b57b1</td>\n",
       "      <td>James</td>\n",
       "      <td>2012-06-03</td>\n",
       "      <td>F</td>\n",
       "      <td>8</td>\n",
       "      <td>iphone</td>\n",
       "      <td>PA-Pennsylvania</td>\n",
       "    </tr>\n",
       "    <tr>\n",
       "      <th>5</th>\n",
       "      <td>013f182f-42ac-4063-a774-1b0218c52fd8</td>\n",
       "      <td>Benjamin</td>\n",
       "      <td>1992-04-03</td>\n",
       "      <td>FEMALE</td>\n",
       "      <td>28</td>\n",
       "      <td>iphone</td>\n",
       "      <td>DE-Delaware</td>\n",
       "    </tr>\n",
       "    <tr>\n",
       "      <th>8</th>\n",
       "      <td>021c45e1-f551-4da8-885d-ad83fe102a15</td>\n",
       "      <td>Mason</td>\n",
       "      <td>1997-06-19</td>\n",
       "      <td>M</td>\n",
       "      <td>23</td>\n",
       "      <td>android</td>\n",
       "      <td>PA-Pennsylvania</td>\n",
       "    </tr>\n",
       "    <tr>\n",
       "      <th>9</th>\n",
       "      <td>025219f6-f3aa-4d1d-8dc3-b485ca5a4641</td>\n",
       "      <td>Logan</td>\n",
       "      <td>1980-04-12</td>\n",
       "      <td>Female</td>\n",
       "      <td>40</td>\n",
       "      <td>android</td>\n",
       "      <td>NJ-New Jersey</td>\n",
       "    </tr>\n",
       "    <tr>\n",
       "      <th>...</th>\n",
       "      <td>...</td>\n",
       "      <td>...</td>\n",
       "      <td>...</td>\n",
       "      <td>...</td>\n",
       "      <td>...</td>\n",
       "      <td>...</td>\n",
       "      <td>...</td>\n",
       "    </tr>\n",
       "    <tr>\n",
       "      <th>492</th>\n",
       "      <td>58b2ba9d-2319-4b50-97b0-80e73c481ee4</td>\n",
       "      <td>Uriel</td>\n",
       "      <td>1979-11-05</td>\n",
       "      <td>Male</td>\n",
       "      <td>41</td>\n",
       "      <td>iphone</td>\n",
       "      <td>PA-Pennsylvania</td>\n",
       "    </tr>\n",
       "    <tr>\n",
       "      <th>493</th>\n",
       "      <td>592ae939-bd3f-4e90-9347-0fe7817f3274</td>\n",
       "      <td>Ronald</td>\n",
       "      <td>1976-03-25</td>\n",
       "      <td>M</td>\n",
       "      <td>44</td>\n",
       "      <td>iphone</td>\n",
       "      <td>NH-New Hampshire</td>\n",
       "    </tr>\n",
       "    <tr>\n",
       "      <th>494</th>\n",
       "      <td>593769d9-d33f-44e9-a381-873963486972</td>\n",
       "      <td>Luciano</td>\n",
       "      <td>2009-11-04</td>\n",
       "      <td>FEMALE</td>\n",
       "      <td>11</td>\n",
       "      <td>iphone</td>\n",
       "      <td>DE-Delaware</td>\n",
       "    </tr>\n",
       "    <tr>\n",
       "      <th>497</th>\n",
       "      <td>59689cfb-27d9-4e95-81fd-c79511947df5</td>\n",
       "      <td>Kieran</td>\n",
       "      <td>2003-10-05</td>\n",
       "      <td>Female</td>\n",
       "      <td>17</td>\n",
       "      <td>android</td>\n",
       "      <td>CT-Connecticut</td>\n",
       "    </tr>\n",
       "    <tr>\n",
       "      <th>499</th>\n",
       "      <td>59a19d68-282a-4f27-ae03-016888016bbe</td>\n",
       "      <td>Moses</td>\n",
       "      <td>2003-10-05</td>\n",
       "      <td>FEMALE</td>\n",
       "      <td>17</td>\n",
       "      <td>iphone</td>\n",
       "      <td>DE-Delaware</td>\n",
       "    </tr>\n",
       "  </tbody>\n",
       "</table>\n",
       "<p>337 rows × 7 columns</p>\n",
       "</div>"
      ],
      "text/plain": [
       "                                       id      name date_of_birth  Gender  \\\n",
       "1    004d3491-8ff2-469e-8946-6fcf2e311329      Noah    2004-04-03  Female   \n",
       "3    010acae5-8749-4cac-b5a9-ae83825b57b1     James    2012-06-03       F   \n",
       "5    013f182f-42ac-4063-a774-1b0218c52fd8  Benjamin    1992-04-03  FEMALE   \n",
       "8    021c45e1-f551-4da8-885d-ad83fe102a15     Mason    1997-06-19       M   \n",
       "9    025219f6-f3aa-4d1d-8dc3-b485ca5a4641     Logan    1980-04-12  Female   \n",
       "..                                    ...       ...           ...     ...   \n",
       "492  58b2ba9d-2319-4b50-97b0-80e73c481ee4     Uriel    1979-11-05    Male   \n",
       "493  592ae939-bd3f-4e90-9347-0fe7817f3274    Ronald    1976-03-25       M   \n",
       "494  593769d9-d33f-44e9-a381-873963486972   Luciano    2009-11-04  FEMALE   \n",
       "497  59689cfb-27d9-4e95-81fd-c79511947df5    Kieran    2003-10-05  Female   \n",
       "499  59a19d68-282a-4f27-ae03-016888016bbe     Moses    2003-10-05  FEMALE   \n",
       "\n",
       "     Age device_type        state_name  \n",
       "1     16      iphone       DE-Delaware  \n",
       "3      8      iphone   PA-Pennsylvania  \n",
       "5     28      iphone       DE-Delaware  \n",
       "8     23     android   PA-Pennsylvania  \n",
       "9     40     android     NJ-New Jersey  \n",
       "..   ...         ...               ...  \n",
       "492   41      iphone   PA-Pennsylvania  \n",
       "493   44      iphone  NH-New Hampshire  \n",
       "494   11      iphone       DE-Delaware  \n",
       "497   17     android    CT-Connecticut  \n",
       "499   17      iphone       DE-Delaware  \n",
       "\n",
       "[337 rows x 7 columns]"
      ]
     },
     "execution_count": 19,
     "metadata": {},
     "output_type": "execute_result"
    }
   ],
   "source": [
    "# making separate device_type column from new data frame \n",
    "df[\"device_type\"]= new_df[0] \n",
    "\n",
    "# making separate state_name column from new data frame \n",
    "df[\"state_name\"]= new_df[1] \n",
    "\n",
    "# Dropping old Name columns \n",
    "df.drop(columns =[\"device_type_us_state\"], inplace = True) \n",
    "\n",
    "# df display \n",
    "df"
   ]
  },
  {
   "cell_type": "code",
   "execution_count": 20,
   "metadata": {},
   "outputs": [
    {
     "data": {
      "text/html": [
       "<div>\n",
       "<style scoped>\n",
       "    .dataframe tbody tr th:only-of-type {\n",
       "        vertical-align: middle;\n",
       "    }\n",
       "\n",
       "    .dataframe tbody tr th {\n",
       "        vertical-align: top;\n",
       "    }\n",
       "\n",
       "    .dataframe thead th {\n",
       "        text-align: right;\n",
       "    }\n",
       "</style>\n",
       "<table border=\"1\" class=\"dataframe\">\n",
       "  <thead>\n",
       "    <tr style=\"text-align: right;\">\n",
       "      <th></th>\n",
       "      <th>id</th>\n",
       "      <th>name</th>\n",
       "      <th>date_of_birth</th>\n",
       "      <th>Gender</th>\n",
       "      <th>Age</th>\n",
       "      <th>device_type</th>\n",
       "      <th>state_name</th>\n",
       "    </tr>\n",
       "  </thead>\n",
       "  <tbody>\n",
       "    <tr>\n",
       "      <th>1</th>\n",
       "      <td>004d3491-8ff2-469e-8946-6fcf2e311329</td>\n",
       "      <td>Noah</td>\n",
       "      <td>2004-04-03</td>\n",
       "      <td>female</td>\n",
       "      <td>16</td>\n",
       "      <td>iphone</td>\n",
       "      <td>DE-Delaware</td>\n",
       "    </tr>\n",
       "    <tr>\n",
       "      <th>3</th>\n",
       "      <td>010acae5-8749-4cac-b5a9-ae83825b57b1</td>\n",
       "      <td>James</td>\n",
       "      <td>2012-06-03</td>\n",
       "      <td>f</td>\n",
       "      <td>8</td>\n",
       "      <td>iphone</td>\n",
       "      <td>PA-Pennsylvania</td>\n",
       "    </tr>\n",
       "    <tr>\n",
       "      <th>5</th>\n",
       "      <td>013f182f-42ac-4063-a774-1b0218c52fd8</td>\n",
       "      <td>Benjamin</td>\n",
       "      <td>1992-04-03</td>\n",
       "      <td>female</td>\n",
       "      <td>28</td>\n",
       "      <td>iphone</td>\n",
       "      <td>DE-Delaware</td>\n",
       "    </tr>\n",
       "    <tr>\n",
       "      <th>8</th>\n",
       "      <td>021c45e1-f551-4da8-885d-ad83fe102a15</td>\n",
       "      <td>Mason</td>\n",
       "      <td>1997-06-19</td>\n",
       "      <td>m</td>\n",
       "      <td>23</td>\n",
       "      <td>android</td>\n",
       "      <td>PA-Pennsylvania</td>\n",
       "    </tr>\n",
       "    <tr>\n",
       "      <th>9</th>\n",
       "      <td>025219f6-f3aa-4d1d-8dc3-b485ca5a4641</td>\n",
       "      <td>Logan</td>\n",
       "      <td>1980-04-12</td>\n",
       "      <td>female</td>\n",
       "      <td>40</td>\n",
       "      <td>android</td>\n",
       "      <td>NJ-New Jersey</td>\n",
       "    </tr>\n",
       "  </tbody>\n",
       "</table>\n",
       "</div>"
      ],
      "text/plain": [
       "                                     id      name date_of_birth  Gender  Age  \\\n",
       "1  004d3491-8ff2-469e-8946-6fcf2e311329      Noah    2004-04-03  female   16   \n",
       "3  010acae5-8749-4cac-b5a9-ae83825b57b1     James    2012-06-03       f    8   \n",
       "5  013f182f-42ac-4063-a774-1b0218c52fd8  Benjamin    1992-04-03  female   28   \n",
       "8  021c45e1-f551-4da8-885d-ad83fe102a15     Mason    1997-06-19       m   23   \n",
       "9  025219f6-f3aa-4d1d-8dc3-b485ca5a4641     Logan    1980-04-12  female   40   \n",
       "\n",
       "  device_type       state_name  \n",
       "1      iphone      DE-Delaware  \n",
       "3      iphone  PA-Pennsylvania  \n",
       "5      iphone      DE-Delaware  \n",
       "8     android  PA-Pennsylvania  \n",
       "9     android    NJ-New Jersey  "
      ]
     },
     "execution_count": 20,
     "metadata": {},
     "output_type": "execute_result"
    }
   ],
   "source": [
    "df['Gender'] = df.Gender.str.lower()\n",
    "df.head()"
   ]
  },
  {
   "cell_type": "code",
   "execution_count": 21,
   "metadata": {},
   "outputs": [],
   "source": [
    "# replacing f from female and m from male\n",
    "df1 = (df.replace(\"f\", \"female\"))"
   ]
  },
  {
   "cell_type": "code",
   "execution_count": 22,
   "metadata": {},
   "outputs": [
    {
     "data": {
      "text/html": [
       "<div>\n",
       "<style scoped>\n",
       "    .dataframe tbody tr th:only-of-type {\n",
       "        vertical-align: middle;\n",
       "    }\n",
       "\n",
       "    .dataframe tbody tr th {\n",
       "        vertical-align: top;\n",
       "    }\n",
       "\n",
       "    .dataframe thead th {\n",
       "        text-align: right;\n",
       "    }\n",
       "</style>\n",
       "<table border=\"1\" class=\"dataframe\">\n",
       "  <thead>\n",
       "    <tr style=\"text-align: right;\">\n",
       "      <th></th>\n",
       "      <th>id</th>\n",
       "      <th>name</th>\n",
       "      <th>date_of_birth</th>\n",
       "      <th>Gender</th>\n",
       "      <th>Age</th>\n",
       "      <th>device_type</th>\n",
       "      <th>state_name</th>\n",
       "    </tr>\n",
       "  </thead>\n",
       "  <tbody>\n",
       "    <tr>\n",
       "      <th>1</th>\n",
       "      <td>004d3491-8ff2-469e-8946-6fcf2e311329</td>\n",
       "      <td>Noah</td>\n",
       "      <td>2004-04-03</td>\n",
       "      <td>female</td>\n",
       "      <td>16</td>\n",
       "      <td>iphone</td>\n",
       "      <td>DE-Delaware</td>\n",
       "    </tr>\n",
       "    <tr>\n",
       "      <th>3</th>\n",
       "      <td>010acae5-8749-4cac-b5a9-ae83825b57b1</td>\n",
       "      <td>James</td>\n",
       "      <td>2012-06-03</td>\n",
       "      <td>female</td>\n",
       "      <td>8</td>\n",
       "      <td>iphone</td>\n",
       "      <td>PA-Pennsylvania</td>\n",
       "    </tr>\n",
       "    <tr>\n",
       "      <th>5</th>\n",
       "      <td>013f182f-42ac-4063-a774-1b0218c52fd8</td>\n",
       "      <td>Benjamin</td>\n",
       "      <td>1992-04-03</td>\n",
       "      <td>female</td>\n",
       "      <td>28</td>\n",
       "      <td>iphone</td>\n",
       "      <td>DE-Delaware</td>\n",
       "    </tr>\n",
       "    <tr>\n",
       "      <th>8</th>\n",
       "      <td>021c45e1-f551-4da8-885d-ad83fe102a15</td>\n",
       "      <td>Mason</td>\n",
       "      <td>1997-06-19</td>\n",
       "      <td>male</td>\n",
       "      <td>23</td>\n",
       "      <td>android</td>\n",
       "      <td>PA-Pennsylvania</td>\n",
       "    </tr>\n",
       "    <tr>\n",
       "      <th>9</th>\n",
       "      <td>025219f6-f3aa-4d1d-8dc3-b485ca5a4641</td>\n",
       "      <td>Logan</td>\n",
       "      <td>1980-04-12</td>\n",
       "      <td>female</td>\n",
       "      <td>40</td>\n",
       "      <td>android</td>\n",
       "      <td>NJ-New Jersey</td>\n",
       "    </tr>\n",
       "  </tbody>\n",
       "</table>\n",
       "</div>"
      ],
      "text/plain": [
       "                                     id      name date_of_birth  Gender  Age  \\\n",
       "1  004d3491-8ff2-469e-8946-6fcf2e311329      Noah    2004-04-03  female   16   \n",
       "3  010acae5-8749-4cac-b5a9-ae83825b57b1     James    2012-06-03  female    8   \n",
       "5  013f182f-42ac-4063-a774-1b0218c52fd8  Benjamin    1992-04-03  female   28   \n",
       "8  021c45e1-f551-4da8-885d-ad83fe102a15     Mason    1997-06-19    male   23   \n",
       "9  025219f6-f3aa-4d1d-8dc3-b485ca5a4641     Logan    1980-04-12  female   40   \n",
       "\n",
       "  device_type       state_name  \n",
       "1      iphone      DE-Delaware  \n",
       "3      iphone  PA-Pennsylvania  \n",
       "5      iphone      DE-Delaware  \n",
       "8     android  PA-Pennsylvania  \n",
       "9     android    NJ-New Jersey  "
      ]
     },
     "execution_count": 22,
     "metadata": {},
     "output_type": "execute_result"
    }
   ],
   "source": [
    "df2 = (df1.replace(\"m\", \"male\"))\n",
    "df2.head()"
   ]
  },
  {
   "cell_type": "code",
   "execution_count": 23,
   "metadata": {},
   "outputs": [],
   "source": [
    "final_df = df2.copy()"
   ]
  },
  {
   "cell_type": "code",
   "execution_count": 24,
   "metadata": {},
   "outputs": [
    {
     "data": {
      "text/plain": [
       "id                                    device_type  Age  Gender  state_name      \n",
       "004d3491-8ff2-469e-8946-6fcf2e311329  iphone       16   female  DE-Delaware         1\n",
       "010acae5-8749-4cac-b5a9-ae83825b57b1  iphone       8    female  PA-Pennsylvania     1\n",
       "013f182f-42ac-4063-a774-1b0218c52fd8  iphone       28   female  DE-Delaware         1\n",
       "021c45e1-f551-4da8-885d-ad83fe102a15  android      23   male    PA-Pennsylvania     1\n",
       "025219f6-f3aa-4d1d-8dc3-b485ca5a4641  android      40   female  NJ-New Jersey       1\n",
       "                                                                                   ..\n",
       "58b2ba9d-2319-4b50-97b0-80e73c481ee4  iphone       41   male    PA-Pennsylvania     1\n",
       "592ae939-bd3f-4e90-9347-0fe7817f3274  iphone       44   male    NH-New Hampshire    1\n",
       "593769d9-d33f-44e9-a381-873963486972  iphone       11   female  DE-Delaware         1\n",
       "59689cfb-27d9-4e95-81fd-c79511947df5  android      17   female  CT-Connecticut      1\n",
       "59a19d68-282a-4f27-ae03-016888016bbe  iphone       17   female  DE-Delaware         1\n",
       "Length: 337, dtype: int64"
      ]
     },
     "execution_count": 24,
     "metadata": {},
     "output_type": "execute_result"
    }
   ],
   "source": [
    "final_df.groupby(['id','device_type','Age','Gender','state_name']).size()"
   ]
  },
  {
   "cell_type": "code",
   "execution_count": 25,
   "metadata": {},
   "outputs": [
    {
     "data": {
      "text/plain": [
       "device_type\n",
       "android    166\n",
       "iphone     171\n",
       "Name: device_type, dtype: int64"
      ]
     },
     "execution_count": 25,
     "metadata": {},
     "output_type": "execute_result"
    }
   ],
   "source": [
    "# Finding how many days of data each store have\n",
    "final_df.groupby('device_type')['device_type'].count()"
   ]
  },
  {
   "cell_type": "code",
   "execution_count": 27,
   "metadata": {},
   "outputs": [
    {
     "data": {
      "text/html": [
       "<div>\n",
       "<style scoped>\n",
       "    .dataframe tbody tr th:only-of-type {\n",
       "        vertical-align: middle;\n",
       "    }\n",
       "\n",
       "    .dataframe tbody tr th {\n",
       "        vertical-align: top;\n",
       "    }\n",
       "\n",
       "    .dataframe thead th {\n",
       "        text-align: right;\n",
       "    }\n",
       "</style>\n",
       "<table border=\"1\" class=\"dataframe\">\n",
       "  <thead>\n",
       "    <tr style=\"text-align: right;\">\n",
       "      <th></th>\n",
       "      <th>id</th>\n",
       "      <th>name</th>\n",
       "      <th>date_of_birth</th>\n",
       "      <th>Gender</th>\n",
       "      <th>device_type</th>\n",
       "      <th>state_name</th>\n",
       "    </tr>\n",
       "    <tr>\n",
       "      <th>Age</th>\n",
       "      <th></th>\n",
       "      <th></th>\n",
       "      <th></th>\n",
       "      <th></th>\n",
       "      <th></th>\n",
       "      <th></th>\n",
       "    </tr>\n",
       "  </thead>\n",
       "  <tbody>\n",
       "    <tr>\n",
       "      <th>4</th>\n",
       "      <td>2798f8b7-4c0b-4c9f-bb2b-113f928f588d</td>\n",
       "      <td>Marcus</td>\n",
       "      <td>2016-02-13</td>\n",
       "      <td>female</td>\n",
       "      <td>android</td>\n",
       "      <td>NJ-New Jersey</td>\n",
       "    </tr>\n",
       "    <tr>\n",
       "      <th>5</th>\n",
       "      <td>04a00d8c-7cf8-4d59-b17f-bb99313f3612</td>\n",
       "      <td>Owen</td>\n",
       "      <td>2015-07-01</td>\n",
       "      <td>male</td>\n",
       "      <td>iphone</td>\n",
       "      <td>MD-Maryland</td>\n",
       "    </tr>\n",
       "    <tr>\n",
       "      <th>6</th>\n",
       "      <td>057e35f3-f552-4d87-a375-e2f83b7d126f</td>\n",
       "      <td>Grayson</td>\n",
       "      <td>2014-06-28</td>\n",
       "      <td>male</td>\n",
       "      <td>android</td>\n",
       "      <td>DC-District of Columbia</td>\n",
       "    </tr>\n",
       "    <tr>\n",
       "      <th>7</th>\n",
       "      <td>222ef65c-7db7-4212-8fb7-44b44de8b793</td>\n",
       "      <td>Hayden</td>\n",
       "      <td>2013-07-28</td>\n",
       "      <td>male</td>\n",
       "      <td>iphone</td>\n",
       "      <td>VT-Vermont</td>\n",
       "    </tr>\n",
       "    <tr>\n",
       "      <th>8</th>\n",
       "      <td>010acae5-8749-4cac-b5a9-ae83825b57b1</td>\n",
       "      <td>James</td>\n",
       "      <td>2012-06-03</td>\n",
       "      <td>female</td>\n",
       "      <td>iphone</td>\n",
       "      <td>PA-Pennsylvania</td>\n",
       "    </tr>\n",
       "  </tbody>\n",
       "</table>\n",
       "</div>"
      ],
      "text/plain": [
       "                                       id     name date_of_birth  Gender  \\\n",
       "Age                                                                        \n",
       "4    2798f8b7-4c0b-4c9f-bb2b-113f928f588d   Marcus    2016-02-13  female   \n",
       "5    04a00d8c-7cf8-4d59-b17f-bb99313f3612     Owen    2015-07-01    male   \n",
       "6    057e35f3-f552-4d87-a375-e2f83b7d126f  Grayson    2014-06-28    male   \n",
       "7    222ef65c-7db7-4212-8fb7-44b44de8b793   Hayden    2013-07-28    male   \n",
       "8    010acae5-8749-4cac-b5a9-ae83825b57b1    James    2012-06-03  female   \n",
       "\n",
       "    device_type               state_name  \n",
       "Age                                       \n",
       "4       android            NJ-New Jersey  \n",
       "5        iphone              MD-Maryland  \n",
       "6       android  DC-District of Columbia  \n",
       "7        iphone               VT-Vermont  \n",
       "8        iphone          PA-Pennsylvania  "
      ]
     },
     "execution_count": 27,
     "metadata": {},
     "output_type": "execute_result"
    }
   ],
   "source": [
    "# Get the first entry for each age\n",
    "final_df.groupby('Age').first().head()"
   ]
  },
  {
   "cell_type": "code",
   "execution_count": 28,
   "metadata": {},
   "outputs": [],
   "source": [
    "final_df1 = final_df.groupby(['Age','device_type','Gender','state_name'])['Age'].sum()"
   ]
  },
  {
   "cell_type": "code",
   "execution_count": 30,
   "metadata": {
    "scrolled": true
   },
   "outputs": [
    {
     "data": {
      "text/plain": [
       "Age  device_type  Gender  state_name             \n",
       "4    android      female  MA-Massachusetts            4\n",
       "                          ME-Maine                    4\n",
       "                          NJ-New Jersey               4\n",
       "                          PA-Pennsylvania             4\n",
       "     iphone       female  VT-Vermont                  4\n",
       "                  male    NH-New Hampshire           12\n",
       "                          NJ-New Jersey               8\n",
       "5    android      male    DE-Delaware                 5\n",
       "                          NJ-New Jersey               5\n",
       "     iphone       female  DE-Delaware                 5\n",
       "                          MD-Maryland                 5\n",
       "                          VT-Vermont                  5\n",
       "                  male    CT-Connecticut              5\n",
       "                          MD-Maryland                 5\n",
       "                          RI-Rhode Island             5\n",
       "6    android      female  CT-Connecticut              6\n",
       "                          DE-Delaware                 6\n",
       "                          MA-Massachusetts            6\n",
       "                          ME-Maine                    6\n",
       "                  male    CT-Connecticut              6\n",
       "                          DC-District of Columbia     6\n",
       "                          MA-Massachusetts            6\n",
       "                          NJ-New Jersey               6\n",
       "                          NY-New York                 6\n",
       "     iphone       male    NY-New York                 6\n",
       "7    iphone       female  NJ-New Jersey               7\n",
       "                  male    MA-Massachusetts            7\n",
       "                          VT-Vermont                  7\n",
       "8    android      female  NJ-New Jersey               8\n",
       "                  male    MA-Massachusetts            8\n",
       "                          NJ-New Jersey               8\n",
       "                          VT-Vermont                  8\n",
       "     iphone       female  ME-Maine                    8\n",
       "                          PA-Pennsylvania             8\n",
       "                  male    MD-Maryland                 8\n",
       "                          NH-New Hampshire            8\n",
       "                          NY-New York                 8\n",
       "9    android      female  CT-Connecticut              9\n",
       "                          DE-Delaware                 9\n",
       "                          MD-Maryland                 9\n",
       "                  male    DC-District of Columbia     9\n",
       "                          NY-New York                 9\n",
       "     iphone       female  MD-Maryland                 9\n",
       "                          NJ-New Jersey               9\n",
       "                          RI-Rhode Island             9\n",
       "10   android      male    CT-Connecticut             20\n",
       "                          PA-Pennsylvania            10\n",
       "     iphone       female  ME-Maine                   10\n",
       "                          NH-New Hampshire           10\n",
       "                  male    ME-Maine                   10\n",
       "Name: Age, dtype: int64"
      ]
     },
     "execution_count": 30,
     "metadata": {},
     "output_type": "execute_result"
    }
   ],
   "source": [
    "final_df1.head(50)"
   ]
  },
  {
   "cell_type": "code",
   "execution_count": 59,
   "metadata": {},
   "outputs": [
    {
     "data": {
      "text/plain": [
       "1      16\n",
       "3       8\n",
       "5      28\n",
       "8      23\n",
       "9      40\n",
       "       ..\n",
       "492    41\n",
       "493    44\n",
       "494    11\n",
       "497    17\n",
       "499    17\n",
       "Name: date_of_birth, Length: 337, dtype: int64"
      ]
     },
     "execution_count": 59,
     "metadata": {},
     "output_type": "execute_result"
    }
   ],
   "source": [
    "age"
   ]
  },
  {
   "cell_type": "code",
   "execution_count": 71,
   "metadata": {},
   "outputs": [
    {
     "data": {
      "text/html": [
       "<div>\n",
       "<style scoped>\n",
       "    .dataframe tbody tr th:only-of-type {\n",
       "        vertical-align: middle;\n",
       "    }\n",
       "\n",
       "    .dataframe tbody tr th {\n",
       "        vertical-align: top;\n",
       "    }\n",
       "\n",
       "    .dataframe thead th {\n",
       "        text-align: right;\n",
       "    }\n",
       "</style>\n",
       "<table border=\"1\" class=\"dataframe\">\n",
       "  <thead>\n",
       "    <tr style=\"text-align: right;\">\n",
       "      <th></th>\n",
       "      <th>id</th>\n",
       "      <th>name</th>\n",
       "      <th>date_of_birth</th>\n",
       "      <th>Gender</th>\n",
       "      <th>Age</th>\n",
       "      <th>device_type</th>\n",
       "      <th>state_name</th>\n",
       "    </tr>\n",
       "  </thead>\n",
       "  <tbody>\n",
       "    <tr>\n",
       "      <th>1</th>\n",
       "      <td>004d3491-8ff2-469e-8946-6fcf2e311329</td>\n",
       "      <td>Noah</td>\n",
       "      <td>2004-04-03</td>\n",
       "      <td>female</td>\n",
       "      <td>16</td>\n",
       "      <td>iphone</td>\n",
       "      <td>DE-Delaware</td>\n",
       "    </tr>\n",
       "    <tr>\n",
       "      <th>3</th>\n",
       "      <td>010acae5-8749-4cac-b5a9-ae83825b57b1</td>\n",
       "      <td>James</td>\n",
       "      <td>2012-06-03</td>\n",
       "      <td>female</td>\n",
       "      <td>8</td>\n",
       "      <td>iphone</td>\n",
       "      <td>PA-Pennsylvania</td>\n",
       "    </tr>\n",
       "    <tr>\n",
       "      <th>10</th>\n",
       "      <td>0260ecc0-df5c-433c-9cb9-84c8f96be2da</td>\n",
       "      <td>Alexander</td>\n",
       "      <td>2004-09-06</td>\n",
       "      <td>female</td>\n",
       "      <td>16</td>\n",
       "      <td>android</td>\n",
       "      <td>NH-New Hampshire</td>\n",
       "    </tr>\n",
       "    <tr>\n",
       "      <th>11</th>\n",
       "      <td>0292ddd9-3dbf-427c-b124-8c59a0e7e67e</td>\n",
       "      <td>Ethan</td>\n",
       "      <td>2006-02-07</td>\n",
       "      <td>female</td>\n",
       "      <td>14</td>\n",
       "      <td>iphone</td>\n",
       "      <td>RI-Rhode Island</td>\n",
       "    </tr>\n",
       "    <tr>\n",
       "      <th>24</th>\n",
       "      <td>04a00d8c-7cf8-4d59-b17f-bb99313f3612</td>\n",
       "      <td>Owen</td>\n",
       "      <td>2015-07-01</td>\n",
       "      <td>male</td>\n",
       "      <td>5</td>\n",
       "      <td>iphone</td>\n",
       "      <td>MD-Maryland</td>\n",
       "    </tr>\n",
       "  </tbody>\n",
       "</table>\n",
       "</div>"
      ],
      "text/plain": [
       "                                      id       name date_of_birth  Gender  \\\n",
       "1   004d3491-8ff2-469e-8946-6fcf2e311329       Noah    2004-04-03  female   \n",
       "3   010acae5-8749-4cac-b5a9-ae83825b57b1      James    2012-06-03  female   \n",
       "10  0260ecc0-df5c-433c-9cb9-84c8f96be2da  Alexander    2004-09-06  female   \n",
       "11  0292ddd9-3dbf-427c-b124-8c59a0e7e67e      Ethan    2006-02-07  female   \n",
       "24  04a00d8c-7cf8-4d59-b17f-bb99313f3612       Owen    2015-07-01    male   \n",
       "\n",
       "    Age device_type        state_name  \n",
       "1    16      iphone       DE-Delaware  \n",
       "3     8      iphone   PA-Pennsylvania  \n",
       "10   16     android  NH-New Hampshire  \n",
       "11   14      iphone   RI-Rhode Island  \n",
       "24    5      iphone       MD-Maryland  "
      ]
     },
     "execution_count": 71,
     "metadata": {},
     "output_type": "execute_result"
    }
   ],
   "source": [
    "# data found in this below 18 age group\n",
    "age_range1 = final_df[(age <= 18)]\n",
    "age_range1.head() "
   ]
  },
  {
   "cell_type": "code",
   "execution_count": 70,
   "metadata": {},
   "outputs": [
    {
     "data": {
      "text/html": [
       "<div>\n",
       "<style scoped>\n",
       "    .dataframe tbody tr th:only-of-type {\n",
       "        vertical-align: middle;\n",
       "    }\n",
       "\n",
       "    .dataframe tbody tr th {\n",
       "        vertical-align: top;\n",
       "    }\n",
       "\n",
       "    .dataframe thead th {\n",
       "        text-align: right;\n",
       "    }\n",
       "</style>\n",
       "<table border=\"1\" class=\"dataframe\">\n",
       "  <thead>\n",
       "    <tr style=\"text-align: right;\">\n",
       "      <th></th>\n",
       "      <th>id</th>\n",
       "      <th>name</th>\n",
       "      <th>date_of_birth</th>\n",
       "      <th>Gender</th>\n",
       "      <th>Age</th>\n",
       "      <th>device_type</th>\n",
       "      <th>state_name</th>\n",
       "    </tr>\n",
       "  </thead>\n",
       "  <tbody>\n",
       "    <tr>\n",
       "      <th>8</th>\n",
       "      <td>021c45e1-f551-4da8-885d-ad83fe102a15</td>\n",
       "      <td>Mason</td>\n",
       "      <td>1997-06-19</td>\n",
       "      <td>male</td>\n",
       "      <td>23</td>\n",
       "      <td>android</td>\n",
       "      <td>PA-Pennsylvania</td>\n",
       "    </tr>\n",
       "    <tr>\n",
       "      <th>22</th>\n",
       "      <td>04862122-fbae-4af1-8980-e82b5de65b3b</td>\n",
       "      <td>Joseph</td>\n",
       "      <td>1997-12-02</td>\n",
       "      <td>female</td>\n",
       "      <td>23</td>\n",
       "      <td>iphone</td>\n",
       "      <td>DE-Delaware</td>\n",
       "    </tr>\n",
       "    <tr>\n",
       "      <th>36</th>\n",
       "      <td>064042cf-dd6c-4e3e-9be6-4d4b736c77e3</td>\n",
       "      <td>Mateo</td>\n",
       "      <td>2000-04-28</td>\n",
       "      <td>female</td>\n",
       "      <td>20</td>\n",
       "      <td>iphone</td>\n",
       "      <td>PA-Pennsylvania</td>\n",
       "    </tr>\n",
       "    <tr>\n",
       "      <th>54</th>\n",
       "      <td>0a568bcb-432c-4db7-ba96-28d8f2b075ab</td>\n",
       "      <td>Christian</td>\n",
       "      <td>1997-10-12</td>\n",
       "      <td>male</td>\n",
       "      <td>23</td>\n",
       "      <td>iphone</td>\n",
       "      <td>DE-Delaware</td>\n",
       "    </tr>\n",
       "    <tr>\n",
       "      <th>75</th>\n",
       "      <td>0f376986-83a6-4b9e-b44d-d28af974b0a2</td>\n",
       "      <td>Jaxson</td>\n",
       "      <td>1998-08-29</td>\n",
       "      <td>male</td>\n",
       "      <td>22</td>\n",
       "      <td>android</td>\n",
       "      <td>RI-Rhode Island</td>\n",
       "    </tr>\n",
       "  </tbody>\n",
       "</table>\n",
       "</div>"
      ],
      "text/plain": [
       "                                      id       name date_of_birth  Gender  \\\n",
       "8   021c45e1-f551-4da8-885d-ad83fe102a15      Mason    1997-06-19    male   \n",
       "22  04862122-fbae-4af1-8980-e82b5de65b3b     Joseph    1997-12-02  female   \n",
       "36  064042cf-dd6c-4e3e-9be6-4d4b736c77e3      Mateo    2000-04-28  female   \n",
       "54  0a568bcb-432c-4db7-ba96-28d8f2b075ab  Christian    1997-10-12    male   \n",
       "75  0f376986-83a6-4b9e-b44d-d28af974b0a2     Jaxson    1998-08-29    male   \n",
       "\n",
       "    Age device_type       state_name  \n",
       "8    23     android  PA-Pennsylvania  \n",
       "22   23      iphone      DE-Delaware  \n",
       "36   20      iphone  PA-Pennsylvania  \n",
       "54   23      iphone      DE-Delaware  \n",
       "75   22     android  RI-Rhode Island  "
      ]
     },
     "execution_count": 70,
     "metadata": {},
     "output_type": "execute_result"
    }
   ],
   "source": [
    "# data found in this more than equal to 19 and less than equal to 24 age group\n",
    "age_range2 = final_df[(age >= 19) & (age <= 24)]\n",
    "age_range2.head() "
   ]
  },
  {
   "cell_type": "code",
   "execution_count": 73,
   "metadata": {},
   "outputs": [
    {
     "data": {
      "text/html": [
       "<div>\n",
       "<style scoped>\n",
       "    .dataframe tbody tr th:only-of-type {\n",
       "        vertical-align: middle;\n",
       "    }\n",
       "\n",
       "    .dataframe tbody tr th {\n",
       "        vertical-align: top;\n",
       "    }\n",
       "\n",
       "    .dataframe thead th {\n",
       "        text-align: right;\n",
       "    }\n",
       "</style>\n",
       "<table border=\"1\" class=\"dataframe\">\n",
       "  <thead>\n",
       "    <tr style=\"text-align: right;\">\n",
       "      <th></th>\n",
       "      <th>id</th>\n",
       "      <th>name</th>\n",
       "      <th>date_of_birth</th>\n",
       "      <th>Gender</th>\n",
       "      <th>Age</th>\n",
       "      <th>device_type</th>\n",
       "      <th>state_name</th>\n",
       "    </tr>\n",
       "  </thead>\n",
       "  <tbody>\n",
       "    <tr>\n",
       "      <th>5</th>\n",
       "      <td>013f182f-42ac-4063-a774-1b0218c52fd8</td>\n",
       "      <td>Benjamin</td>\n",
       "      <td>1992-04-03</td>\n",
       "      <td>female</td>\n",
       "      <td>28</td>\n",
       "      <td>iphone</td>\n",
       "      <td>DE-Delaware</td>\n",
       "    </tr>\n",
       "    <tr>\n",
       "      <th>13</th>\n",
       "      <td>02b791f0-605d-46ac-9c8b-51a0caef1eed</td>\n",
       "      <td>Michael</td>\n",
       "      <td>1986-02-05</td>\n",
       "      <td>female</td>\n",
       "      <td>34</td>\n",
       "      <td>android</td>\n",
       "      <td>ME-Maine</td>\n",
       "    </tr>\n",
       "    <tr>\n",
       "      <th>18</th>\n",
       "      <td>03e34ddb-a0b0-4d13-b56d-6fd68e993039</td>\n",
       "      <td>Aiden</td>\n",
       "      <td>1991-12-01</td>\n",
       "      <td>female</td>\n",
       "      <td>29</td>\n",
       "      <td>android</td>\n",
       "      <td>DC-District of Columbia</td>\n",
       "    </tr>\n",
       "    <tr>\n",
       "      <th>20</th>\n",
       "      <td>04749bdb-34ed-4606-b70b-5ed79b79b9f1</td>\n",
       "      <td>Samuel</td>\n",
       "      <td>1993-05-27</td>\n",
       "      <td>male</td>\n",
       "      <td>27</td>\n",
       "      <td>android</td>\n",
       "      <td>CT-Connecticut</td>\n",
       "    </tr>\n",
       "    <tr>\n",
       "      <th>23</th>\n",
       "      <td>0487723b-29e3-4a1f-8041-819e557e85a0</td>\n",
       "      <td>Carter</td>\n",
       "      <td>1991-08-02</td>\n",
       "      <td>female</td>\n",
       "      <td>29</td>\n",
       "      <td>android</td>\n",
       "      <td>DC-District of Columbia</td>\n",
       "    </tr>\n",
       "  </tbody>\n",
       "</table>\n",
       "</div>"
      ],
      "text/plain": [
       "                                      id      name date_of_birth  Gender  Age  \\\n",
       "5   013f182f-42ac-4063-a774-1b0218c52fd8  Benjamin    1992-04-03  female   28   \n",
       "13  02b791f0-605d-46ac-9c8b-51a0caef1eed   Michael    1986-02-05  female   34   \n",
       "18  03e34ddb-a0b0-4d13-b56d-6fd68e993039     Aiden    1991-12-01  female   29   \n",
       "20  04749bdb-34ed-4606-b70b-5ed79b79b9f1    Samuel    1993-05-27    male   27   \n",
       "23  0487723b-29e3-4a1f-8041-819e557e85a0    Carter    1991-08-02  female   29   \n",
       "\n",
       "   device_type               state_name  \n",
       "5       iphone              DE-Delaware  \n",
       "13     android                 ME-Maine  \n",
       "18     android  DC-District of Columbia  \n",
       "20     android           CT-Connecticut  \n",
       "23     android  DC-District of Columbia  "
      ]
     },
     "execution_count": 73,
     "metadata": {},
     "output_type": "execute_result"
    }
   ],
   "source": [
    "# data found in this more than and equal to 25 and less than equal to 34 age group\n",
    "age_range3 = final_df[(age >= 25) & (age <= 34)]\n",
    "age_range3.head() "
   ]
  },
  {
   "cell_type": "code",
   "execution_count": 74,
   "metadata": {},
   "outputs": [
    {
     "data": {
      "text/html": [
       "<div>\n",
       "<style scoped>\n",
       "    .dataframe tbody tr th:only-of-type {\n",
       "        vertical-align: middle;\n",
       "    }\n",
       "\n",
       "    .dataframe tbody tr th {\n",
       "        vertical-align: top;\n",
       "    }\n",
       "\n",
       "    .dataframe thead th {\n",
       "        text-align: right;\n",
       "    }\n",
       "</style>\n",
       "<table border=\"1\" class=\"dataframe\">\n",
       "  <thead>\n",
       "    <tr style=\"text-align: right;\">\n",
       "      <th></th>\n",
       "      <th>id</th>\n",
       "      <th>name</th>\n",
       "      <th>date_of_birth</th>\n",
       "      <th>Gender</th>\n",
       "      <th>Age</th>\n",
       "      <th>device_type</th>\n",
       "      <th>state_name</th>\n",
       "    </tr>\n",
       "  </thead>\n",
       "  <tbody>\n",
       "    <tr>\n",
       "      <th>9</th>\n",
       "      <td>025219f6-f3aa-4d1d-8dc3-b485ca5a4641</td>\n",
       "      <td>Logan</td>\n",
       "      <td>1980-04-12</td>\n",
       "      <td>female</td>\n",
       "      <td>40</td>\n",
       "      <td>android</td>\n",
       "      <td>NJ-New Jersey</td>\n",
       "    </tr>\n",
       "    <tr>\n",
       "      <th>14</th>\n",
       "      <td>02d4ba77-a4b4-420a-9442-15294ca2f707</td>\n",
       "      <td>Daniel</td>\n",
       "      <td>1979-11-04</td>\n",
       "      <td>male</td>\n",
       "      <td>41</td>\n",
       "      <td>android</td>\n",
       "      <td>PA-Pennsylvania</td>\n",
       "    </tr>\n",
       "    <tr>\n",
       "      <th>17</th>\n",
       "      <td>03d94086-1d9a-4fc4-83d4-12c631a197a8</td>\n",
       "      <td>Sebastian</td>\n",
       "      <td>1983-09-14</td>\n",
       "      <td>male</td>\n",
       "      <td>37</td>\n",
       "      <td>android</td>\n",
       "      <td>PA-Pennsylvania</td>\n",
       "    </tr>\n",
       "    <tr>\n",
       "      <th>51</th>\n",
       "      <td>09f04694-1b6b-4340-a216-1e85d6fca155</td>\n",
       "      <td>Charles</td>\n",
       "      <td>1977-08-17</td>\n",
       "      <td>female</td>\n",
       "      <td>43</td>\n",
       "      <td>android</td>\n",
       "      <td>PA-Pennsylvania</td>\n",
       "    </tr>\n",
       "    <tr>\n",
       "      <th>58</th>\n",
       "      <td>0b2e4a76-6fc3-40ee-99b5-6ebb63684f01</td>\n",
       "      <td>Ezra</td>\n",
       "      <td>1979-07-10</td>\n",
       "      <td>male</td>\n",
       "      <td>41</td>\n",
       "      <td>android</td>\n",
       "      <td>CT-Connecticut</td>\n",
       "    </tr>\n",
       "  </tbody>\n",
       "</table>\n",
       "</div>"
      ],
      "text/plain": [
       "                                      id       name date_of_birth  Gender  \\\n",
       "9   025219f6-f3aa-4d1d-8dc3-b485ca5a4641      Logan    1980-04-12  female   \n",
       "14  02d4ba77-a4b4-420a-9442-15294ca2f707     Daniel    1979-11-04    male   \n",
       "17  03d94086-1d9a-4fc4-83d4-12c631a197a8  Sebastian    1983-09-14    male   \n",
       "51  09f04694-1b6b-4340-a216-1e85d6fca155    Charles    1977-08-17  female   \n",
       "58  0b2e4a76-6fc3-40ee-99b5-6ebb63684f01       Ezra    1979-07-10    male   \n",
       "\n",
       "    Age device_type       state_name  \n",
       "9    40     android    NJ-New Jersey  \n",
       "14   41     android  PA-Pennsylvania  \n",
       "17   37     android  PA-Pennsylvania  \n",
       "51   43     android  PA-Pennsylvania  \n",
       "58   41     android   CT-Connecticut  "
      ]
     },
     "execution_count": 74,
     "metadata": {},
     "output_type": "execute_result"
    }
   ],
   "source": [
    "# data found in this more than and equal to 35 and less than equal to 44 age group\n",
    "age_range4 = final_df[(age >= 35) & (age <= 44)]\n",
    "age_range4.head() "
   ]
  },
  {
   "cell_type": "code",
   "execution_count": 75,
   "metadata": {},
   "outputs": [
    {
     "data": {
      "text/html": [
       "<div>\n",
       "<style scoped>\n",
       "    .dataframe tbody tr th:only-of-type {\n",
       "        vertical-align: middle;\n",
       "    }\n",
       "\n",
       "    .dataframe tbody tr th {\n",
       "        vertical-align: top;\n",
       "    }\n",
       "\n",
       "    .dataframe thead th {\n",
       "        text-align: right;\n",
       "    }\n",
       "</style>\n",
       "<table border=\"1\" class=\"dataframe\">\n",
       "  <thead>\n",
       "    <tr style=\"text-align: right;\">\n",
       "      <th></th>\n",
       "      <th>id</th>\n",
       "      <th>name</th>\n",
       "      <th>date_of_birth</th>\n",
       "      <th>Gender</th>\n",
       "      <th>Age</th>\n",
       "      <th>device_type</th>\n",
       "      <th>state_name</th>\n",
       "    </tr>\n",
       "  </thead>\n",
       "  <tbody>\n",
       "    <tr>\n",
       "      <th>38</th>\n",
       "      <td>077edaa6-c799-40ee-9319-d1c8688117c9</td>\n",
       "      <td>Jaxon</td>\n",
       "      <td>1970-04-29</td>\n",
       "      <td>female</td>\n",
       "      <td>50</td>\n",
       "      <td>iphone</td>\n",
       "      <td>CT-Connecticut</td>\n",
       "    </tr>\n",
       "    <tr>\n",
       "      <th>63</th>\n",
       "      <td>0d054183-b441-4ee6-8d33-7de65f334470</td>\n",
       "      <td>Nolan</td>\n",
       "      <td>1974-11-24</td>\n",
       "      <td>male</td>\n",
       "      <td>46</td>\n",
       "      <td>android</td>\n",
       "      <td>CT-Connecticut</td>\n",
       "    </tr>\n",
       "    <tr>\n",
       "      <th>66</th>\n",
       "      <td>0d2f45be-e3df-4c71-ae2b-3af31b4ca340</td>\n",
       "      <td>Elias</td>\n",
       "      <td>1974-01-03</td>\n",
       "      <td>female</td>\n",
       "      <td>46</td>\n",
       "      <td>iphone</td>\n",
       "      <td>CT-Connecticut</td>\n",
       "    </tr>\n",
       "    <tr>\n",
       "      <th>76</th>\n",
       "      <td>0f4afc5d-0265-46af-b965-727f12a1d97a</td>\n",
       "      <td>Greyson</td>\n",
       "      <td>1974-10-12</td>\n",
       "      <td>female</td>\n",
       "      <td>46</td>\n",
       "      <td>android</td>\n",
       "      <td>MD-Maryland</td>\n",
       "    </tr>\n",
       "    <tr>\n",
       "      <th>87</th>\n",
       "      <td>113a39bd-1f23-4dbc-8881-94972da5cede</td>\n",
       "      <td>Xavier</td>\n",
       "      <td>1970-04-19</td>\n",
       "      <td>female</td>\n",
       "      <td>50</td>\n",
       "      <td>iphone</td>\n",
       "      <td>ME-Maine</td>\n",
       "    </tr>\n",
       "  </tbody>\n",
       "</table>\n",
       "</div>"
      ],
      "text/plain": [
       "                                      id     name date_of_birth  Gender  Age  \\\n",
       "38  077edaa6-c799-40ee-9319-d1c8688117c9    Jaxon    1970-04-29  female   50   \n",
       "63  0d054183-b441-4ee6-8d33-7de65f334470    Nolan    1974-11-24    male   46   \n",
       "66  0d2f45be-e3df-4c71-ae2b-3af31b4ca340    Elias    1974-01-03  female   46   \n",
       "76  0f4afc5d-0265-46af-b965-727f12a1d97a  Greyson    1974-10-12  female   46   \n",
       "87  113a39bd-1f23-4dbc-8881-94972da5cede   Xavier    1970-04-19  female   50   \n",
       "\n",
       "   device_type      state_name  \n",
       "38      iphone  CT-Connecticut  \n",
       "63     android  CT-Connecticut  \n",
       "66      iphone  CT-Connecticut  \n",
       "76     android     MD-Maryland  \n",
       "87      iphone        ME-Maine  "
      ]
     },
     "execution_count": 75,
     "metadata": {},
     "output_type": "execute_result"
    }
   ],
   "source": [
    "# data found in this more than and equal to 45 and less than equal to 54 age group\n",
    "age_range4 = final_df[(age >= 45) & (age <= 54)]\n",
    "age_range4.head() "
   ]
  },
  {
   "cell_type": "code",
   "execution_count": 77,
   "metadata": {},
   "outputs": [
    {
     "data": {
      "text/html": [
       "<div>\n",
       "<style scoped>\n",
       "    .dataframe tbody tr th:only-of-type {\n",
       "        vertical-align: middle;\n",
       "    }\n",
       "\n",
       "    .dataframe tbody tr th {\n",
       "        vertical-align: top;\n",
       "    }\n",
       "\n",
       "    .dataframe thead th {\n",
       "        text-align: right;\n",
       "    }\n",
       "</style>\n",
       "<table border=\"1\" class=\"dataframe\">\n",
       "  <thead>\n",
       "    <tr style=\"text-align: right;\">\n",
       "      <th></th>\n",
       "      <th>id</th>\n",
       "      <th>name</th>\n",
       "      <th>date_of_birth</th>\n",
       "      <th>Gender</th>\n",
       "      <th>Age</th>\n",
       "      <th>device_type</th>\n",
       "      <th>state_name</th>\n",
       "    </tr>\n",
       "  </thead>\n",
       "  <tbody>\n",
       "  </tbody>\n",
       "</table>\n",
       "</div>"
      ],
      "text/plain": [
       "Empty DataFrame\n",
       "Columns: [id, name, date_of_birth, Gender, Age, device_type, state_name]\n",
       "Index: []"
      ]
     },
     "execution_count": 77,
     "metadata": {},
     "output_type": "execute_result"
    }
   ],
   "source": [
    "# no data found in this +65 age group\n",
    "age_range5 = final_df[(age >= 55) & (age <= 64)]\n",
    "age_range5"
   ]
  },
  {
   "cell_type": "code",
   "execution_count": 78,
   "metadata": {},
   "outputs": [
    {
     "data": {
      "text/html": [
       "<div>\n",
       "<style scoped>\n",
       "    .dataframe tbody tr th:only-of-type {\n",
       "        vertical-align: middle;\n",
       "    }\n",
       "\n",
       "    .dataframe tbody tr th {\n",
       "        vertical-align: top;\n",
       "    }\n",
       "\n",
       "    .dataframe thead th {\n",
       "        text-align: right;\n",
       "    }\n",
       "</style>\n",
       "<table border=\"1\" class=\"dataframe\">\n",
       "  <thead>\n",
       "    <tr style=\"text-align: right;\">\n",
       "      <th></th>\n",
       "      <th>id</th>\n",
       "      <th>name</th>\n",
       "      <th>date_of_birth</th>\n",
       "      <th>Gender</th>\n",
       "      <th>Age</th>\n",
       "      <th>device_type</th>\n",
       "      <th>state_name</th>\n",
       "    </tr>\n",
       "  </thead>\n",
       "  <tbody>\n",
       "  </tbody>\n",
       "</table>\n",
       "</div>"
      ],
      "text/plain": [
       "Empty DataFrame\n",
       "Columns: [id, name, date_of_birth, Gender, Age, device_type, state_name]\n",
       "Index: []"
      ]
     },
     "execution_count": 78,
     "metadata": {},
     "output_type": "execute_result"
    }
   ],
   "source": [
    "# no data found in this +65 age group\n",
    "age_range6 = final_df[(age >= 65)]\n",
    "age_range6"
   ]
  },
  {
   "cell_type": "code",
   "execution_count": 80,
   "metadata": {},
   "outputs": [
    {
     "data": {
      "text/plain": [
       "device_type\n",
       "android    54\n",
       "iphone     60\n",
       "Name: device_type, dtype: int64"
      ]
     },
     "execution_count": 80,
     "metadata": {},
     "output_type": "execute_result"
    }
   ],
   "source": [
    "# device has been used below 18 age group\n",
    "age_range1.groupby('device_type')['device_type'].count()"
   ]
  },
  {
   "cell_type": "code",
   "execution_count": 81,
   "metadata": {},
   "outputs": [
    {
     "data": {
      "text/plain": [
       "device_type\n",
       "android    20\n",
       "iphone     17\n",
       "Name: device_type, dtype: int64"
      ]
     },
     "execution_count": 81,
     "metadata": {},
     "output_type": "execute_result"
    }
   ],
   "source": [
    "# device has been used 19-24 age group\n",
    "age_range2.groupby('device_type')['device_type'].count()"
   ]
  },
  {
   "cell_type": "code",
   "execution_count": 82,
   "metadata": {},
   "outputs": [
    {
     "data": {
      "text/plain": [
       "device_type\n",
       "android    35\n",
       "iphone     32\n",
       "Name: device_type, dtype: int64"
      ]
     },
     "execution_count": 82,
     "metadata": {},
     "output_type": "execute_result"
    }
   ],
   "source": [
    "# device has been used 25-34 age group\n",
    "age_range3.groupby('device_type')['device_type'].count()"
   ]
  },
  {
   "cell_type": "code",
   "execution_count": 83,
   "metadata": {},
   "outputs": [
    {
     "data": {
      "text/plain": [
       "device_type\n",
       "android    15\n",
       "iphone     26\n",
       "Name: device_type, dtype: int64"
      ]
     },
     "execution_count": 83,
     "metadata": {},
     "output_type": "execute_result"
    }
   ],
   "source": [
    "# device has been used 35-44 age group\n",
    "age_range4.groupby('device_type')['device_type'].count()"
   ]
  },
  {
   "cell_type": "code",
   "execution_count": null,
   "metadata": {},
   "outputs": [],
   "source": [
    "# No data found more than age 45 age group"
   ]
  },
  {
   "cell_type": "markdown",
   "metadata": {},
   "source": [
    "## <center> ------THANK YOU------ "
   ]
  },
  {
   "cell_type": "code",
   "execution_count": null,
   "metadata": {},
   "outputs": [],
   "source": []
  },
  {
   "cell_type": "code",
   "execution_count": null,
   "metadata": {},
   "outputs": [],
   "source": []
  }
 ],
 "metadata": {
  "kernelspec": {
   "display_name": "Python 3",
   "language": "python",
   "name": "python3"
  },
  "language_info": {
   "codemirror_mode": {
    "name": "ipython",
    "version": 3
   },
   "file_extension": ".py",
   "mimetype": "text/x-python",
   "name": "python",
   "nbconvert_exporter": "python",
   "pygments_lexer": "ipython3",
   "version": "3.8.3"
  }
 },
 "nbformat": 4,
 "nbformat_minor": 4
}
